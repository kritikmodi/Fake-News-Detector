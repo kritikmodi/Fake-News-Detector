{
  "nbformat": 4,
  "nbformat_minor": 0,
  "metadata": {
    "colab": {
      "name": "SIH classification.ipynb",
      "provenance": []
    },
    "kernelspec": {
      "name": "python3",
      "display_name": "Python 3"
    },
    "language_info": {
      "name": "python"
    },
    "accelerator": "GPU",
    "gpuClass": "standard"
  },
  "cells": [
    {
      "cell_type": "code",
      "execution_count": null,
      "metadata": {
        "id": "04lfWrUlzN6t"
      },
      "outputs": [],
      "source": [
        "! pip install sentence_transformers"
      ]
    },
    {
      "cell_type": "code",
      "source": [
        "! pip install tensorflow_hub"
      ],
      "metadata": {
        "id": "44VdfOmx2vqq"
      },
      "execution_count": null,
      "outputs": []
    },
    {
      "cell_type": "code",
      "source": [
        "! pip install tensorflow_text"
      ],
      "metadata": {
        "id": "QoItJkH220Yp"
      },
      "execution_count": null,
      "outputs": []
    },
    {
      "cell_type": "code",
      "source": [
        "import tensorflow as tf\n",
        "import tensorflow_hub as hub\n",
        "import tensorflow_text as text\n",
        "import numpy as np\n",
        "import pandas as pd\n",
        "import random\n",
        "import os"
      ],
      "metadata": {
        "id": "KHY1ZFlqzl_y"
      },
      "execution_count": 33,
      "outputs": []
    },
    {
      "cell_type": "code",
      "source": [
        "bert_preprocess = hub.KerasLayer(\"https://tfhub.dev/tensorflow/bert_en_uncased_preprocess/3\")\n",
        "bert_encoder = hub.KerasLayer(\"https://tfhub.dev/tensorflow/bert_en_uncased_L-12_H-768_A-12/4\")"
      ],
      "metadata": {
        "id": "RxdNbHRfzyxm"
      },
      "execution_count": 6,
      "outputs": []
    },
    {
      "cell_type": "code",
      "source": [
        "text_input = tf.keras.layers.Input(shape=(), dtype=tf.string, name='text_input')\n",
        "preprocessed_text = bert_preprocess(text_input)\n",
        "emb = bert_encoder(preprocessed_text)\n",
        "\n",
        "dense = tf.keras.layers.Dense(1, activation='sigmoid', name='classifier')\n",
        "out = dense(emb['pooled_output'])\n",
        "\n",
        "model = tf.keras.Model(inputs=[text_input], outputs = [out])\n",
        "model.compile(optimizer='adam', loss='binary_crossentropy', metrics=['accuracy'])"
      ],
      "metadata": {
        "id": "rluBb5fgz6nv"
      },
      "execution_count": 7,
      "outputs": []
    },
    {
      "cell_type": "code",
      "source": [
        "tf.keras.utils.plot_model(model)"
      ],
      "metadata": {
        "colab": {
          "base_uri": "https://localhost:8080/",
          "height": 369
        },
        "id": "1Y9y0GvZ8Sg6",
        "outputId": "706c77d7-2835-48dd-92cc-40f74efd2c99"
      },
      "execution_count": 8,
      "outputs": [
        {
          "output_type": "execute_result",
          "data": {
            "image/png": "[encoded data removed]",
            "text/plain": [
              "<IPython.core.display.Image object>"
            ]
          },
          "metadata": {},
          "execution_count": 8
        }
      ]
    },
    {
      "cell_type": "code",
      "source": [
        "true = pd.read_csv(\"/content/drive/MyDrive/News Articles/Datasets/Medium/DatasetMediumCleaned.csv\")\n",
        "true = true[:50000]\n",
        "true.drop_duplicates(inplace=True)"
      ],
      "metadata": {
        "id": "_s8fqLt48P7Q"
      },
      "execution_count": 9,
      "outputs": []
    },
    {
      "cell_type": "code",
      "source": [
        "true.drop(columns=['Unnamed: 0'], inplace=True)"
      ],
      "metadata": {
        "id": "dBaALDP2uDD-"
      },
      "execution_count": 10,
      "outputs": []
    },
    {
      "cell_type": "code",
      "source": [
        "true.shape"
      ],
      "metadata": {
        "id": "gtBmn6rLs6A_"
      },
      "execution_count": null,
      "outputs": []
    },
    {
      "cell_type": "code",
      "source": [
        "x = []\n",
        "for i in range(50000) :\n",
        "  x.append(1)"
      ],
      "metadata": {
        "id": "payWQGcBuuVv"
      },
      "execution_count": 12,
      "outputs": []
    },
    {
      "cell_type": "code",
      "source": [
        "true['label'] = x"
      ],
      "metadata": {
        "id": "cvY35ybCu6KD"
      },
      "execution_count": 13,
      "outputs": []
    },
    {
      "cell_type": "code",
      "source": [
        "true.head(2)"
      ],
      "metadata": {
        "id": "TnhPveVevHas"
      },
      "execution_count": null,
      "outputs": []
    },
    {
      "cell_type": "code",
      "source": [
        "fake = pd.read_csv(\"/content/drive/MyDrive/News Articles/Datasets/Medium/dataset_for_model_negative.csv\")\n",
        "fake.drop_duplicates(inplace=True)"
      ],
      "metadata": {
        "id": "i6MeMbE1tUrl"
      },
      "execution_count": 15,
      "outputs": []
    },
    {
      "cell_type": "code",
      "source": [
        "fake.columns"
      ],
      "metadata": {
        "id": "koA82-Ciu-Lz"
      },
      "execution_count": null,
      "outputs": []
    },
    {
      "cell_type": "code",
      "source": [
        "true.columns"
      ],
      "metadata": {
        "id": "MC4aEOATv3zm"
      },
      "execution_count": null,
      "outputs": []
    },
    {
      "cell_type": "code",
      "source": [
        "fake.drop(columns=['Unnamed: 0'], inplace=True)"
      ],
      "metadata": {
        "id": "Sk4kV6d9uYHG"
      },
      "execution_count": 18,
      "outputs": []
    },
    {
      "cell_type": "code",
      "source": [
        "fake.rename(columns={'0' : 'label'}, inplace=True)"
      ],
      "metadata": {
        "id": "SMJQt1iOvOfI"
      },
      "execution_count": 19,
      "outputs": []
    },
    {
      "cell_type": "code",
      "source": [
        "fake.head(2)"
      ],
      "metadata": {
        "id": "mgRpPVFNvpaL"
      },
      "execution_count": null,
      "outputs": []
    },
    {
      "cell_type": "code",
      "source": [
        "fake.shape"
      ],
      "metadata": {
        "id": "X_wz45CasPy7"
      },
      "execution_count": null,
      "outputs": []
    },
    {
      "cell_type": "code",
      "source": [
        "true.to_csv(\"/content/drive/MyDrive/News Articles/Datasets/Medium/true_50k.csv\")"
      ],
      "metadata": {
        "id": "WpK7knebtsaq"
      },
      "execution_count": 22,
      "outputs": []
    },
    {
      "cell_type": "code",
      "source": [
        "df = pd.concat([true, fake])"
      ],
      "metadata": {
        "id": "wQFa5c-ov70u"
      },
      "execution_count": 23,
      "outputs": []
    },
    {
      "cell_type": "code",
      "source": [
        "df.head(3)"
      ],
      "metadata": {
        "id": "5Dai_0mlwHG7"
      },
      "execution_count": null,
      "outputs": []
    },
    {
      "cell_type": "code",
      "source": [
        "from sklearn.utils import shuffle\n",
        "shuffled_df = shuffle(df)"
      ],
      "metadata": {
        "id": "sSHHr-ptz5Sz"
      },
      "execution_count": 36,
      "outputs": []
    },
    {
      "cell_type": "code",
      "source": [
        "shuffled_df.drop_duplicates(inplace=True)"
      ],
      "metadata": {
        "id": "ABEltmqGOyB1"
      },
      "execution_count": 46,
      "outputs": []
    },
    {
      "cell_type": "code",
      "source": [
        "shuffled_df = shuffled_df.dropna()"
      ],
      "metadata": {
        "id": "AXWxuJLUPCYP"
      },
      "execution_count": 50,
      "outputs": []
    },
    {
      "cell_type": "code",
      "source": [
        "shuffled_df"
      ],
      "metadata": {
        "id": "d9cpx-PiPe2M",
        "outputId": "392c0912-0a09-4eed-b4bb-2a5b31f5b581",
        "colab": {
          "base_uri": "https://localhost:8080/",
          "height": 424
        }
      },
      "execution_count": 51,
      "outputs": [
        {
          "output_type": "execute_result",
          "data": {
            "text/plain": [
              "                                                 content  label\n",
              "39674  more than 5 cr covid19 vaccine doses administe...      1\n",
              "14053  president of india shri ram nath kovind to vir...      1\n",
              "19862  the andaman islands are an archipelago far awa...      0\n",
              "45243  both the indian and german governments appreci...      1\n",
              "10187  shri piyush goyal reviews monsoon preparation ...      0\n",
              "...                                                  ...    ...\n",
              "40212  downgrading of sericulture training institute ...      0\n",
              "4786   the success of the abhiyaan can be attributed ...      1\n",
              "8572   the recovery of 38945 patients in the last 24 ...      1\n",
              "48050  episodically accreting young stars decrease th...      0\n",
              "14337  aids and assistive device distributed to divya...      0\n",
              "\n",
              "[92293 rows x 2 columns]"
            ],
            "text/html": [
              "\n",
              "  <div id=\"df-14a60908-f300-494f-8014-1843f23425ad\">\n",
              "    <div class=\"colab-df-container\">\n",
              "      <div>\n",
              "<style scoped>\n",
              "    .dataframe tbody tr th:only-of-type {\n",
              "        vertical-align: middle;\n",
              "    }\n",
              "\n",
              "    .dataframe tbody tr th {\n",
              "        vertical-align: top;\n",
              "    }\n",
              "\n",
              "    .dataframe thead th {\n",
              "        text-align: right;\n",
              "    }\n",
              "</style>\n",
              "<table border=\"1\" class=\"dataframe\">\n",
              "  <thead>\n",
              "    <tr style=\"text-align: right;\">\n",
              "      <th></th>\n",
              "      <th>content</th>\n",
              "      <th>label</th>\n",
              "    </tr>\n",
              "  </thead>\n",
              "  <tbody>\n",
              "    <tr>\n",
              "      <th>39674</th>\n",
              "      <td>more than 5 cr covid19 vaccine doses administe...</td>\n",
              "      <td>1</td>\n",
              "    </tr>\n",
              "    <tr>\n",
              "      <th>14053</th>\n",
              "      <td>president of india shri ram nath kovind to vir...</td>\n",
              "      <td>1</td>\n",
              "    </tr>\n",
              "    <tr>\n",
              "      <th>19862</th>\n",
              "      <td>the andaman islands are an archipelago far awa...</td>\n",
              "      <td>0</td>\n",
              "    </tr>\n",
              "    <tr>\n",
              "      <th>45243</th>\n",
              "      <td>both the indian and german governments appreci...</td>\n",
              "      <td>1</td>\n",
              "    </tr>\n",
              "    <tr>\n",
              "      <th>10187</th>\n",
              "      <td>shri piyush goyal reviews monsoon preparation ...</td>\n",
              "      <td>0</td>\n",
              "    </tr>\n",
              "    <tr>\n",
              "      <th>...</th>\n",
              "      <td>...</td>\n",
              "      <td>...</td>\n",
              "    </tr>\n",
              "    <tr>\n",
              "      <th>40212</th>\n",
              "      <td>downgrading of sericulture training institute ...</td>\n",
              "      <td>0</td>\n",
              "    </tr>\n",
              "    <tr>\n",
              "      <th>4786</th>\n",
              "      <td>the success of the abhiyaan can be attributed ...</td>\n",
              "      <td>1</td>\n",
              "    </tr>\n",
              "    <tr>\n",
              "      <th>8572</th>\n",
              "      <td>the recovery of 38945 patients in the last 24 ...</td>\n",
              "      <td>1</td>\n",
              "    </tr>\n",
              "    <tr>\n",
              "      <th>48050</th>\n",
              "      <td>episodically accreting young stars decrease th...</td>\n",
              "      <td>0</td>\n",
              "    </tr>\n",
              "    <tr>\n",
              "      <th>14337</th>\n",
              "      <td>aids and assistive device distributed to divya...</td>\n",
              "      <td>0</td>\n",
              "    </tr>\n",
              "  </tbody>\n",
              "</table>\n",
              "<p>92293 rows × 2 columns</p>\n",
              "</div>\n",
              "      <button class=\"colab-df-convert\" onclick=\"convertToInteractive('df-14a60908-f300-494f-8014-1843f23425ad')\"\n",
              "              title=\"Convert this dataframe to an interactive table.\"\n",
              "              style=\"display:none;\">\n",
              "        \n",
              "  <svg xmlns=\"http://www.w3.org/2000/svg\" height=\"24px\"viewBox=\"0 0 24 24\"\n",
              "       width=\"24px\">\n",
              "    <path d=\"M0 0h24v24H0V0z\" fill=\"none\"/>\n",
              "    <path d=\"M18.56 5.44l.94 2.06.94-2.06 2.06-.94-2.06-.94-.94-2.06-.94 2.06-2.06.94zm-11 1L8.5 8.5l.94-2.06 2.06-.94-2.06-.94L8.5 2.5l-.94 2.06-2.06.94zm10 10l.94 2.06.94-2.06 2.06-.94-2.06-.94-.94-2.06-.94 2.06-2.06.94z\"/><path d=\"M17.41 7.96l-1.37-1.37c-.4-.4-.92-.59-1.43-.59-.52 0-1.04.2-1.43.59L10.3 9.45l-7.72 7.72c-.78.78-.78 2.05 0 2.83L4 21.41c.39.39.9.59 1.41.59.51 0 1.02-.2 1.41-.59l7.78-7.78 2.81-2.81c.8-.78.8-2.07 0-2.86zM5.41 20L4 18.59l7.72-7.72 1.47 1.35L5.41 20z\"/>\n",
              "  </svg>\n",
              "      </button>\n",
              "      \n",
              "  <style>\n",
              "    .colab-df-container {\n",
              "      display:flex;\n",
              "      flex-wrap:wrap;\n",
              "      gap: 12px;\n",
              "    }\n",
              "\n",
              "    .colab-df-convert {\n",
              "      background-color: #E8F0FE;\n",
              "      border: none;\n",
              "      border-radius: 50%;\n",
              "      cursor: pointer;\n",
              "      display: none;\n",
              "      fill: #1967D2;\n",
              "      height: 32px;\n",
              "      padding: 0 0 0 0;\n",
              "      width: 32px;\n",
              "    }\n",
              "\n",
              "    .colab-df-convert:hover {\n",
              "      background-color: #E2EBFA;\n",
              "      box-shadow: 0px 1px 2px rgba(60, 64, 67, 0.3), 0px 1px 3px 1px rgba(60, 64, 67, 0.15);\n",
              "      fill: #174EA6;\n",
              "    }\n",
              "\n",
              "    [theme=dark] .colab-df-convert {\n",
              "      background-color: #3B4455;\n",
              "      fill: #D2E3FC;\n",
              "    }\n",
              "\n",
              "    [theme=dark] .colab-df-convert:hover {\n",
              "      background-color: #434B5C;\n",
              "      box-shadow: 0px 1px 3px 1px rgba(0, 0, 0, 0.15);\n",
              "      filter: drop-shadow(0px 1px 2px rgba(0, 0, 0, 0.3));\n",
              "      fill: #FFFFFF;\n",
              "    }\n",
              "  </style>\n",
              "\n",
              "      <script>\n",
              "        const buttonEl =\n",
              "          document.querySelector('#df-14a60908-f300-494f-8014-1843f23425ad button.colab-df-convert');\n",
              "        buttonEl.style.display =\n",
              "          google.colab.kernel.accessAllowed ? 'block' : 'none';\n",
              "\n",
              "        async function convertToInteractive(key) {\n",
              "          const element = document.querySelector('#df-14a60908-f300-494f-8014-1843f23425ad');\n",
              "          const dataTable =\n",
              "            await google.colab.kernel.invokeFunction('convertToInteractive',\n",
              "                                                     [key], {});\n",
              "          if (!dataTable) return;\n",
              "\n",
              "          const docLinkHtml = 'Like what you see? Visit the ' +\n",
              "            '<a target=\"_blank\" href=https://colab.research.google.com/notebooks/data_table.ipynb>data table notebook</a>'\n",
              "            + ' to learn more about interactive tables.';\n",
              "          element.innerHTML = '';\n",
              "          dataTable['output_type'] = 'display_data';\n",
              "          await google.colab.output.renderOutput(dataTable, element);\n",
              "          const docLink = document.createElement('div');\n",
              "          docLink.innerHTML = docLinkHtml;\n",
              "          element.appendChild(docLink);\n",
              "        }\n",
              "      </script>\n",
              "    </div>\n",
              "  </div>\n",
              "  "
            ]
          },
          "metadata": {},
          "execution_count": 51
        }
      ]
    },
    {
      "cell_type": "code",
      "source": [
        "shuffled_df.to_csv(\"/content/drive/MyDrive/News Articles/Datasets/Medium/dataset50k.csv\")"
      ],
      "metadata": {
        "id": "mwp0rhvixKbH"
      },
      "execution_count": 52,
      "outputs": []
    },
    {
      "cell_type": "code",
      "source": [
        "# count1 = 0\n",
        "# count2 = 0\n",
        "# for i in shuffled_df.label :\n",
        "#   if i==1 :\n",
        "#     count1+=1\n",
        "#   else :\n",
        "#     count2+=1\n",
        "# print(count1,count2)"
      ],
      "metadata": {
        "id": "KH5tfwWlPqxr",
        "outputId": "2330a8bb-5177-44c1-a66b-bba653bdf1bd",
        "colab": {
          "base_uri": "https://localhost:8080/"
        }
      },
      "execution_count": 53,
      "outputs": [
        {
          "output_type": "stream",
          "name": "stdout",
          "text": [
            "46568 45725\n"
          ]
        }
      ]
    },
    {
      "cell_type": "code",
      "source": [
        "x = shuffled_df.content\n",
        "y = shuffled_df.label"
      ],
      "metadata": {
        "id": "gz0nbs5NwN0u"
      },
      "execution_count": 54,
      "outputs": []
    },
    {
      "cell_type": "code",
      "source": [
        "X = []\n",
        "for i in x :\n",
        "  X.append(str(i))"
      ],
      "metadata": {
        "id": "9gdKTrrnwq43"
      },
      "execution_count": 55,
      "outputs": []
    },
    {
      "cell_type": "code",
      "source": [
        "x = np.array(X)\n",
        "y = np.array(y)"
      ],
      "metadata": {
        "id": "i5sUX5PVxAS9"
      },
      "execution_count": 56,
      "outputs": []
    },
    {
      "cell_type": "code",
      "source": [
        "model.fit(x,y, epochs=15)"
      ],
      "metadata": {
        "id": "4ExihJva8-43",
        "outputId": "e9ae2f68-5ed2-4703-fe6e-0681e3791749",
        "colab": {
          "base_uri": "https://localhost:8080/"
        }
      },
      "execution_count": 57,
      "outputs": [
        {
          "output_type": "stream",
          "name": "stdout",
          "text": [
            "Epoch 1/15\n",
            "2885/2885 [==============================] - 935s 324ms/step - loss: 0.4774 - accuracy: 0.7623\n",
            "Epoch 2/15\n",
            "2885/2885 [==============================] - 938s 325ms/step - loss: 0.4735 - accuracy: 0.7655\n",
            "Epoch 3/15\n",
            "2885/2885 [==============================] - 938s 325ms/step - loss: 0.4707 - accuracy: 0.7661\n",
            "Epoch 4/15\n",
            "2885/2885 [==============================] - 939s 326ms/step - loss: 0.4692 - accuracy: 0.7671\n",
            "Epoch 5/15\n",
            "2885/2885 [==============================] - 935s 324ms/step - loss: 0.4675 - accuracy: 0.7674\n",
            "Epoch 6/15\n",
            "2885/2885 [==============================] - 936s 324ms/step - loss: 0.4658 - accuracy: 0.7691\n",
            "Epoch 7/15\n",
            "2885/2885 [==============================] - 936s 325ms/step - loss: 0.4639 - accuracy: 0.7696\n",
            "Epoch 8/15\n",
            "2885/2885 [==============================] - 938s 325ms/step - loss: 0.4621 - accuracy: 0.7715\n",
            "Epoch 9/15\n",
            "2885/2885 [==============================] - 938s 325ms/step - loss: 0.4620 - accuracy: 0.7704\n",
            "Epoch 10/15\n",
            "2885/2885 [==============================] - 936s 325ms/step - loss: 0.4608 - accuracy: 0.7707\n",
            "Epoch 11/15\n",
            "2885/2885 [==============================] - 939s 326ms/step - loss: 0.4593 - accuracy: 0.7721\n",
            "Epoch 12/15\n",
            "2885/2885 [==============================] - 936s 324ms/step - loss: 0.4584 - accuracy: 0.7722\n",
            "Epoch 13/15\n",
            "2885/2885 [==============================] - 938s 325ms/step - loss: 0.4571 - accuracy: 0.7728\n",
            "Epoch 14/15\n",
            "2885/2885 [==============================] - 937s 325ms/step - loss: 0.4571 - accuracy: 0.7722\n",
            "Epoch 15/15\n",
            "2885/2885 [==============================] - 938s 325ms/step - loss: 0.4551 - accuracy: 0.7750\n"
          ]
        },
        {
          "output_type": "execute_result",
          "data": {
            "text/plain": [
              "<keras.callbacks.History at 0x7f21803c2810>"
            ]
          },
          "metadata": {},
          "execution_count": 57
        }
      ]
    },
    {
      "cell_type": "code",
      "source": [
        "model_save_path = \"/content/drive/MyDrive/Models\"\n",
        "model_save_path = os.path.join(model_save_path, \"classifier.h5\")"
      ],
      "metadata": {
        "id": "xNvgZ99o9Rha"
      },
      "execution_count": 61,
      "outputs": []
    },
    {
      "cell_type": "code",
      "source": [
        "tf.keras.models.save_model(model, model_save_path)"
      ],
      "metadata": {
        "id": "ikO2HS9U9WJy",
        "outputId": "3a1a210e-d660-43d6-f702-e7d63361e2c7",
        "colab": {
          "base_uri": "https://localhost:8080/"
        }
      },
      "execution_count": 62,
      "outputs": [
        {
          "output_type": "stream",
          "name": "stderr",
          "text": [
            "WARNING:absl:Found untraced functions such as restored_function_body, restored_function_body, restored_function_body, restored_function_body, restored_function_body while saving (showing 5 of 366). These functions will not be directly callable after loading.\n"
          ]
        }
      ]
    },
    {
      "cell_type": "code",
      "source": [
        "while True :\n",
        "  pass"
      ],
      "metadata": {
        "id": "LHoQcVHUzGTK",
        "outputId": "56dac67f-38a7-45e8-d2bf-0341b2f3d2f4",
        "colab": {
          "base_uri": "https://localhost:8080/",
          "height": 190
        }
      },
      "execution_count": 60,
      "outputs": [
        {
          "output_type": "error",
          "ename": "KeyboardInterrupt",
          "evalue": "ignored",
          "traceback": [
            "\u001b[0;31m---------------------------------------------------------------------------\u001b[0m",
            "\u001b[0;31mKeyboardInterrupt\u001b[0m                         Traceback (most recent call last)",
            "\u001b[0;32m<ipython-input-60-39e30eadbe60>\u001b[0m in \u001b[0;36m<module>\u001b[0;34m\u001b[0m\n\u001b[1;32m      1\u001b[0m \u001b[0;32mwhile\u001b[0m \u001b[0;32mTrue\u001b[0m \u001b[0;34m:\u001b[0m\u001b[0;34m\u001b[0m\u001b[0;34m\u001b[0m\u001b[0m\n\u001b[0;32m----> 2\u001b[0;31m   \u001b[0;32mpass\u001b[0m\u001b[0;34m\u001b[0m\u001b[0;34m\u001b[0m\u001b[0m\n\u001b[0m",
            "\u001b[0;31mKeyboardInterrupt\u001b[0m: "
          ]
        }
      ]
    },
    {
      "cell_type": "code",
      "source": [
        ""
      ],
      "metadata": {
        "id": "BiURSj-bLQg1"
      },
      "execution_count": null,
      "outputs": []
    }
  ]
}